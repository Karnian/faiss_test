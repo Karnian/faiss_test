{
 "cells": [
  {
   "cell_type": "code",
   "execution_count": 1,
   "metadata": {},
   "outputs": [],
   "source": [
    "import numpy as np\n",
    "import os\n",
    "import pandas as pd\n",
    "import urllib.request\n",
    "import time\n",
    "from sentence_transformers import SentenceTransformer"
   ]
  },
  {
   "attachments": {},
   "cell_type": "markdown",
   "metadata": {},
   "source": [
    "데이터 로드 https://wikidocs.net/162007"
   ]
  },
  {
   "cell_type": "code",
   "execution_count": 2,
   "metadata": {},
   "outputs": [],
   "source": [
    "urllib.request.urlretrieve(\"https://raw.githubusercontent.com/ukairia777/tensorflow-nlp-tutorial/main/19.%20Topic%20Modeling%20(LDA%2C%20BERT-Based)/dataset/abcnews-date-text.csv\", filename=\"abcnews-date-text.csv\")\n",
    "\n",
    "df = pd.read_csv(\"abcnews-date-text.csv\")\n",
    "data = df.headline_text.to_list()"
   ]
  },
  {
   "cell_type": "code",
   "execution_count": 3,
   "metadata": {},
   "outputs": [
    {
     "data": {
      "text/plain": [
       "['aba decides against community broadcasting licence',\n",
       " 'act fire witnesses must be aware of defamation',\n",
       " 'a g calls for infrastructure protection summit',\n",
       " 'air nz staff in aust strike for pay rise',\n",
       " 'air nz strike to affect australian travellers']"
      ]
     },
     "execution_count": 3,
     "metadata": {},
     "output_type": "execute_result"
    }
   ],
   "source": [
    "# 상위 5개의 샘플 출력\n",
    "data[:5]"
   ]
  },
  {
   "cell_type": "code",
   "execution_count": 4,
   "metadata": {},
   "outputs": [
    {
     "name": "stdout",
     "output_type": "stream",
     "text": [
      "총 샘플의 개수 : 1082168\n"
     ]
    }
   ],
   "source": [
    "print('총 샘플의 개수 :', len(data))"
   ]
  },
  {
   "attachments": {},
   "cell_type": "markdown",
   "metadata": {},
   "source": [
    "SBERT 임베딩"
   ]
  },
  {
   "cell_type": "code",
   "execution_count": 5,
   "metadata": {},
   "outputs": [
    {
     "name": "stdout",
     "output_type": "stream",
     "text": [
      "임베딩 된 벡터 수 : 1082168\n"
     ]
    }
   ],
   "source": [
    "model = SentenceTransformer('distilbert-base-nli-mean-tokens')\n",
    "encoded_data = model.encode(data)\n",
    "print('임베딩 된 벡터 수 :', len(encoded_data))"
   ]
  },
  {
   "attachments": {},
   "cell_type": "markdown",
   "metadata": {},
   "source": [
    "Cosin Similarity 계산"
   ]
  },
  {
   "cell_type": "code",
   "execution_count": 6,
   "metadata": {},
   "outputs": [
    {
     "data": {
      "text/plain": [
       "(1082168, 768)"
      ]
     },
     "execution_count": 6,
     "metadata": {},
     "output_type": "execute_result"
    }
   ],
   "source": [
    "encoded_data.shape"
   ]
  },
  {
   "cell_type": "code",
   "execution_count": 7,
   "metadata": {},
   "outputs": [],
   "source": [
    "from numpy import dot\n",
    "from numpy.linalg import norm\n",
    "def cos_sim(A, B):\n",
    "  return dot(A, B)/(norm(A)*norm(B))"
   ]
  },
  {
   "cell_type": "code",
   "execution_count": 8,
   "metadata": {},
   "outputs": [],
   "source": [
    "def return_answer(question):\n",
    "    t = time.time()\n",
    "    embedding = model.encode(question)\n",
    "    sim_scores = list(enumerate(cos_sim(encoded_data, embedding)))\n",
    "    # 유사도에 따라 기사들을 정렬한다.\n",
    "    sim_scores = sorted(sim_scores, key=lambda x: x[1], reverse=True)\n",
    "\n",
    "    # 가장 유사한 5개의 기사를 받아온다.\n",
    "    sim_scores = sim_scores[1:6]\n",
    "\n",
    "    # 가장 유사한 5개의 기사의 인덱스를 얻는다.\n",
    "    resut_indices = [idx[0] for idx in sim_scores]\n",
    "\n",
    "    print('total time: {}'.format(time.time() - t))\n",
    "    # 가장 유사한 5개의 기사의 제목을 리턴한다.\n",
    "    return [data[_id] for _id in resut_indices]"
   ]
  },
  {
   "cell_type": "code",
   "execution_count": 9,
   "metadata": {},
   "outputs": [
    {
     "name": "stdout",
     "output_type": "stream",
     "text": [
      "total time: 2.617715835571289\n",
      "results :\n",
      "\t thriving underwater antarctic garden discovered\n",
      "\t baton goes underwater in wa\n",
      "\t underwater footage shows inside doomed costa\n",
      "\t underwater uluru found off wa coast\n",
      "\t amateur diver shares hobarts hidden underwater world\n"
     ]
    }
   ],
   "source": [
    "# Underwater Forest Discovered\n",
    "query = str(input())\n",
    "results = return_answer(query)\n",
    "\n",
    "print('results :')\n",
    "for result in results:\n",
    "   print('\\t', result)"
   ]
  },
  {
   "attachments": {},
   "cell_type": "markdown",
   "metadata": {},
   "source": [
    "FAISS 예제"
   ]
  },
  {
   "cell_type": "code",
   "execution_count": 10,
   "metadata": {},
   "outputs": [],
   "source": [
    "import faiss\n",
    "\n",
    "index = faiss.IndexFlatL2(encoded_data.shape[1]) # 초기화 : 벡터의 크기를 지정\n",
    "index.add(encoded_data) # 임베딩을 추가"
   ]
  },
  {
   "cell_type": "code",
   "execution_count": 11,
   "metadata": {},
   "outputs": [
    {
     "data": {
      "text/plain": [
       "True"
      ]
     },
     "execution_count": 11,
     "metadata": {},
     "output_type": "execute_result"
    }
   ],
   "source": [
    "# index 학습 여부 확인. FlatL2 의 경우 기본적으로 trained 상태.\n",
    "index.is_trained"
   ]
  },
  {
   "cell_type": "code",
   "execution_count": 12,
   "metadata": {},
   "outputs": [],
   "source": [
    "def search(query):\n",
    "   t = time.time()\n",
    "   query_vector = model.encode([query])\n",
    "   # 몇개나 찾을 것인가\n",
    "   k = 5 \n",
    "   top_k = index.search(query_vector, k)\n",
    "   print('total time: {}'.format(time.time() - t))\n",
    "   return [data[_id] for _id in top_k[1].tolist()[0]]"
   ]
  },
  {
   "cell_type": "code",
   "execution_count": 13,
   "metadata": {},
   "outputs": [
    {
     "name": "stdout",
     "output_type": "stream",
     "text": [
      "input : Underwater Forest Discovered\n",
      "total time: 0.6258132457733154\n",
      "results :\n",
      "\t baton goes underwater in wa\n",
      "\t underwater footage shows inside doomed costa\n",
      "\t underwater loop\n",
      "\t thriving underwater antarctic garden discovered\n",
      "\t shire faces underwater observatory bill blowout\n"
     ]
    }
   ],
   "source": [
    "query = str(input())\n",
    "print('input : ' + query)\n",
    "\n",
    "results = search(query)\n",
    "\n",
    "print('results :')\n",
    "for result in results:\n",
    "   print('\\t', result)"
   ]
  },
  {
   "attachments": {},
   "cell_type": "markdown",
   "metadata": {},
   "source": [
    "IVF 예제"
   ]
  },
  {
   "cell_type": "code",
   "execution_count": 14,
   "metadata": {},
   "outputs": [],
   "source": [
    "d = encoded_data.shape[1]\n",
    "nlist = 50 # 셀 수 정의\n",
    "# m = 8 # m은 d 의 배수여야함, 벡터 클러스터의 중심\n",
    "# bits = 8\n",
    "\n",
    "quantizer = faiss.IndexFlatL2(d)\n",
    "index = faiss.IndexIVFFlat(quantizer, d, nlist)"
   ]
  },
  {
   "cell_type": "code",
   "execution_count": 15,
   "metadata": {},
   "outputs": [
    {
     "data": {
      "text/plain": [
       "False"
      ]
     },
     "execution_count": 15,
     "metadata": {},
     "output_type": "execute_result"
    }
   ],
   "source": [
    "# index 의 학습여부 확인.\n",
    "index.is_trained"
   ]
  },
  {
   "cell_type": "code",
   "execution_count": 16,
   "metadata": {},
   "outputs": [
    {
     "data": {
      "text/plain": [
       "1082168"
      ]
     },
     "execution_count": 16,
     "metadata": {},
     "output_type": "execute_result"
    }
   ],
   "source": [
    "# index 학습이 되어있지 않으므로 학습 먼저 진행.\n",
    "index.train(encoded_data)\n",
    "index.add(encoded_data)\n",
    "index.ntotal"
   ]
  },
  {
   "cell_type": "code",
   "execution_count": 17,
   "metadata": {},
   "outputs": [],
   "source": [
    "def search_IVFFlat(query):\n",
    "   t = time.time()\n",
    "   query_vector = model.encode([query])\n",
    "   k = 5\n",
    "   top_k = index.search(query_vector, k)\n",
    "   print('total time: {}'.format(time.time() - t))\n",
    "   return [data[_id] for _id in top_k[1].tolist()[0]]"
   ]
  },
  {
   "cell_type": "code",
   "execution_count": 18,
   "metadata": {},
   "outputs": [
    {
     "name": "stdout",
     "output_type": "stream",
     "text": [
      "input : Underwater Forest Discovered\n",
      "total time: 0.03360128402709961\n",
      "results :\n",
      "\t baton goes underwater in wa\n",
      "\t underwater footage shows inside doomed costa\n",
      "\t underwater loop\n",
      "\t thriving underwater antarctic garden discovered\n",
      "\t shire faces underwater observatory bill blowout\n"
     ]
    }
   ],
   "source": [
    "query = str(input())\n",
    "print('input : ' + query)\n",
    "results = search_IVFFlat(query)\n",
    "print('results :')\n",
    "for result in results:\n",
    "   print('\\t', result)"
   ]
  },
  {
   "cell_type": "code",
   "execution_count": 19,
   "metadata": {},
   "outputs": [
    {
     "name": "stdout",
     "output_type": "stream",
     "text": [
      "1\n"
     ]
    }
   ],
   "source": [
    "# 기본값은 1\n",
    "print(index.nprobe)\n",
    "# 주변 셀을 몇개나 검색할 것인가 지정 가능\n",
    "index.nprobe = 10 "
   ]
  },
  {
   "cell_type": "code",
   "execution_count": 20,
   "metadata": {},
   "outputs": [
    {
     "name": "stdout",
     "output_type": "stream",
     "text": [
      "input : Underwater Forest Discovered\n",
      "total time: 0.15331459045410156\n",
      "results :\n",
      "\t baton goes underwater in wa\n",
      "\t underwater footage shows inside doomed costa\n",
      "\t underwater loop\n",
      "\t thriving underwater antarctic garden discovered\n",
      "\t shire faces underwater observatory bill blowout\n"
     ]
    }
   ],
   "source": [
    "query = str(input())\n",
    "\n",
    "print('input : ' + query)\n",
    "results = search_IVFFlat(query)\n",
    "\n",
    "print('results :')\n",
    "for result in results:\n",
    "   print('\\t', result)"
   ]
  },
  {
   "attachments": {},
   "cell_type": "markdown",
   "metadata": {},
   "source": [
    "IndexIVFPQ 예제"
   ]
  },
  {
   "cell_type": "code",
   "execution_count": 21,
   "metadata": {},
   "outputs": [],
   "source": [
    "m = 8 # m은 d 의 약수여야함, 벡터 클러스터의 중심\n",
    "num_bits = 8  # 각 서브 벡터를 양자화하기 위한 비트 수"
   ]
  },
  {
   "cell_type": "code",
   "execution_count": 22,
   "metadata": {},
   "outputs": [],
   "source": [
    "quantizer = faiss.IndexFlatL2(d)\n",
    "index = faiss.IndexIVFPQ(quantizer, d, nlist, m, num_bits)"
   ]
  },
  {
   "cell_type": "code",
   "execution_count": 23,
   "metadata": {},
   "outputs": [],
   "source": [
    "index.train(encoded_data)\n",
    "index.add(encoded_data)"
   ]
  },
  {
   "cell_type": "code",
   "execution_count": 24,
   "metadata": {},
   "outputs": [],
   "source": [
    "def search_IVFPQ(query):\n",
    "   t = time.time()\n",
    "   query_vector = model.encode([query])\n",
    "   k = 5\n",
    "   top_k = index.search(query_vector, k)\n",
    "   print('total time: {}'.format(time.time() - t))\n",
    "   return [data[_id] for _id in top_k[1].tolist()[0]]"
   ]
  },
  {
   "cell_type": "code",
   "execution_count": 31,
   "metadata": {},
   "outputs": [
    {
     "name": "stdout",
     "output_type": "stream",
     "text": [
      "input : Underwater Forest Discovered\n",
      "total time: 0.03170180320739746\n",
      "results :\n",
      "\t croc trapped in cairns swimming enclosure\n",
      "\t thriving underwater antarctic garden discovered\n",
      "\t man drowns at greenbushes swimming pool\n",
      "\t berry springs swim hole croc captured\n",
      "\t croc caught near litchfield swimming hole\n"
     ]
    }
   ],
   "source": [
    "query = str(input())\n",
    "\n",
    "print('input : ' + query)\n",
    "results = search_IVFPQ(query)\n",
    "\n",
    "print('results :')\n",
    "for result in results:\n",
    "   print('\\t', result)"
   ]
  },
  {
   "cell_type": "code",
   "execution_count": 33,
   "metadata": {},
   "outputs": [
    {
     "name": "stdout",
     "output_type": "stream",
     "text": [
      "input : Underwater Forest Discovered\n",
      "total time: 0.03354001045227051\n",
      "results :\n",
      "\t croc trapped in cairns swimming enclosure\n",
      "\t thriving underwater antarctic garden discovered\n",
      "\t man drowns at greenbushes swimming pool\n",
      "\t berry springs swim hole croc captured\n",
      "\t croc caught near litchfield swimming hole\n"
     ]
    }
   ],
   "source": [
    "index.nprobe = 10\n",
    "\n",
    "query = str(input())\n",
    "\n",
    "print('input : ' + query)\n",
    "results = search_IVFPQ(query)\n",
    "\n",
    "print('results :')\n",
    "for result in results:\n",
    "   print('\\t', result)"
   ]
  },
  {
   "cell_type": "code",
   "execution_count": 32,
   "metadata": {},
   "outputs": [],
   "source": [
    "#index 저장하기\n",
    "faiss.write_index(index,\"sts.index\")\n",
    "\n",
    "#인덱스 불러오기\n",
    "index = faiss.read_index(\"./sts.index\")"
   ]
  },
  {
   "cell_type": "code",
   "execution_count": null,
   "metadata": {},
   "outputs": [],
   "source": []
  }
 ],
 "metadata": {
  "kernelspec": {
   "display_name": "base",
   "language": "python",
   "name": "python3"
  },
  "language_info": {
   "codemirror_mode": {
    "name": "ipython",
    "version": 3
   },
   "file_extension": ".py",
   "mimetype": "text/x-python",
   "name": "python",
   "nbconvert_exporter": "python",
   "pygments_lexer": "ipython3",
   "version": "3.7.4"
  },
  "orig_nbformat": 4
 },
 "nbformat": 4,
 "nbformat_minor": 2
}
