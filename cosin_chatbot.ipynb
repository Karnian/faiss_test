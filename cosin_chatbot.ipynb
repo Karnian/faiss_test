{
 "cells": [
  {
   "cell_type": "code",
   "execution_count": 1,
   "metadata": {},
   "outputs": [],
   "source": [
    "import numpy as np\n",
    "import pandas as pd\n",
    "from numpy import dot\n",
    "from numpy.linalg import norm\n",
    "import urllib.request\n",
    "import time\n",
    "from sentence_transformers import SentenceTransformer"
   ]
  },
  {
   "cell_type": "code",
   "execution_count": 2,
   "metadata": {},
   "outputs": [
    {
     "data": {
      "text/html": [
       "<div>\n",
       "<style scoped>\n",
       "    .dataframe tbody tr th:only-of-type {\n",
       "        vertical-align: middle;\n",
       "    }\n",
       "\n",
       "    .dataframe tbody tr th {\n",
       "        vertical-align: top;\n",
       "    }\n",
       "\n",
       "    .dataframe thead th {\n",
       "        text-align: right;\n",
       "    }\n",
       "</style>\n",
       "<table border=\"1\" class=\"dataframe\">\n",
       "  <thead>\n",
       "    <tr style=\"text-align: right;\">\n",
       "      <th></th>\n",
       "      <th>Q</th>\n",
       "      <th>A</th>\n",
       "      <th>label</th>\n",
       "    </tr>\n",
       "  </thead>\n",
       "  <tbody>\n",
       "    <tr>\n",
       "      <td>0</td>\n",
       "      <td>12시 땡!</td>\n",
       "      <td>하루가 또 가네요.</td>\n",
       "      <td>0</td>\n",
       "    </tr>\n",
       "    <tr>\n",
       "      <td>1</td>\n",
       "      <td>1지망 학교 떨어졌어</td>\n",
       "      <td>위로해 드립니다.</td>\n",
       "      <td>0</td>\n",
       "    </tr>\n",
       "    <tr>\n",
       "      <td>2</td>\n",
       "      <td>3박4일 놀러가고 싶다</td>\n",
       "      <td>여행은 언제나 좋죠.</td>\n",
       "      <td>0</td>\n",
       "    </tr>\n",
       "    <tr>\n",
       "      <td>3</td>\n",
       "      <td>3박4일 정도 놀러가고 싶다</td>\n",
       "      <td>여행은 언제나 좋죠.</td>\n",
       "      <td>0</td>\n",
       "    </tr>\n",
       "    <tr>\n",
       "      <td>4</td>\n",
       "      <td>PPL 심하네</td>\n",
       "      <td>눈살이 찌푸려지죠.</td>\n",
       "      <td>0</td>\n",
       "    </tr>\n",
       "  </tbody>\n",
       "</table>\n",
       "</div>"
      ],
      "text/plain": [
       "                 Q            A  label\n",
       "0           12시 땡!   하루가 또 가네요.      0\n",
       "1      1지망 학교 떨어졌어    위로해 드립니다.      0\n",
       "2     3박4일 놀러가고 싶다  여행은 언제나 좋죠.      0\n",
       "3  3박4일 정도 놀러가고 싶다  여행은 언제나 좋죠.      0\n",
       "4          PPL 심하네   눈살이 찌푸려지죠.      0"
      ]
     },
     "execution_count": 2,
     "metadata": {},
     "output_type": "execute_result"
    }
   ],
   "source": [
    "urllib.request.urlretrieve(\"https://raw.githubusercontent.com/songys/Chatbot_data/master/ChatbotData.csv\", filename=\"ChatBotData.csv\")\n",
    "train_data = pd.read_csv('ChatBotData.csv')\n",
    "train_data.head()"
   ]
  },
  {
   "cell_type": "code",
   "execution_count": 3,
   "metadata": {},
   "outputs": [
    {
     "data": {
      "application/vnd.jupyter.widget-view+json": {
       "model_id": "e08b030c76174fc88fad403658eb89e9",
       "version_major": 2,
       "version_minor": 0
      },
      "text/plain": [
       "Downloading (…)ab895/.gitattributes:   0%|          | 0.00/574 [00:00<?, ?B/s]"
      ]
     },
     "metadata": {},
     "output_type": "display_data"
    },
    {
     "data": {
      "application/vnd.jupyter.widget-view+json": {
       "model_id": "6baafb1b36c7455eb8922d8a23ff0d3e",
       "version_major": 2,
       "version_minor": 0
      },
      "text/plain": [
       "Downloading (…)_Pooling/config.json:   0%|          | 0.00/190 [00:00<?, ?B/s]"
      ]
     },
     "metadata": {},
     "output_type": "display_data"
    },
    {
     "data": {
      "application/vnd.jupyter.widget-view+json": {
       "model_id": "c349b1d154f74549a33cd481116ba0b1",
       "version_major": 2,
       "version_minor": 0
      },
      "text/plain": [
       "Downloading (…)f9e99ab895/README.md:   0%|          | 0.00/4.06k [00:00<?, ?B/s]"
      ]
     },
     "metadata": {},
     "output_type": "display_data"
    },
    {
     "data": {
      "application/vnd.jupyter.widget-view+json": {
       "model_id": "b13209d0b0f541269acb7aa99273ac5a",
       "version_major": 2,
       "version_minor": 0
      },
      "text/plain": [
       "Downloading (…)e99ab895/config.json:   0%|          | 0.00/731 [00:00<?, ?B/s]"
      ]
     },
     "metadata": {},
     "output_type": "display_data"
    },
    {
     "data": {
      "application/vnd.jupyter.widget-view+json": {
       "model_id": "8a0ffd01bad549eca2b57bde3be16f2f",
       "version_major": 2,
       "version_minor": 0
      },
      "text/plain": [
       "Downloading (…)ce_transformers.json:   0%|          | 0.00/122 [00:00<?, ?B/s]"
      ]
     },
     "metadata": {},
     "output_type": "display_data"
    },
    {
     "data": {
      "application/vnd.jupyter.widget-view+json": {
       "model_id": "2c8c53e5317048bdaf11c3809e15e4a3",
       "version_major": 2,
       "version_minor": 0
      },
      "text/plain": [
       "Downloading pytorch_model.bin:   0%|          | 0.00/1.11G [00:00<?, ?B/s]"
      ]
     },
     "metadata": {},
     "output_type": "display_data"
    },
    {
     "data": {
      "application/vnd.jupyter.widget-view+json": {
       "model_id": "177e5ce3c6ba4387b0012c962bdb9f07",
       "version_major": 2,
       "version_minor": 0
      },
      "text/plain": [
       "Downloading (…)nce_bert_config.json:   0%|          | 0.00/53.0 [00:00<?, ?B/s]"
      ]
     },
     "metadata": {},
     "output_type": "display_data"
    },
    {
     "data": {
      "application/vnd.jupyter.widget-view+json": {
       "model_id": "b47b7d230798486295630f28b4c9e003",
       "version_major": 2,
       "version_minor": 0
      },
      "text/plain": [
       "Downloading (…)tencepiece.bpe.model:   0%|          | 0.00/5.07M [00:00<?, ?B/s]"
      ]
     },
     "metadata": {},
     "output_type": "display_data"
    },
    {
     "data": {
      "application/vnd.jupyter.widget-view+json": {
       "model_id": "c028c6229d4d408facbbfde4490ce673",
       "version_major": 2,
       "version_minor": 0
      },
      "text/plain": [
       "Downloading (…)cial_tokens_map.json:   0%|          | 0.00/150 [00:00<?, ?B/s]"
      ]
     },
     "metadata": {},
     "output_type": "display_data"
    },
    {
     "data": {
      "application/vnd.jupyter.widget-view+json": {
       "model_id": "7d2cb2796de14839ab6cbc7a66c12201",
       "version_major": 2,
       "version_minor": 0
      },
      "text/plain": [
       "Downloading tokenizer.json:   0%|          | 0.00/9.10M [00:00<?, ?B/s]"
      ]
     },
     "metadata": {},
     "output_type": "display_data"
    },
    {
     "data": {
      "application/vnd.jupyter.widget-view+json": {
       "model_id": "ca52976cf34f4fd29d5e4814268ef359",
       "version_major": 2,
       "version_minor": 0
      },
      "text/plain": [
       "Downloading (…)okenizer_config.json:   0%|          | 0.00/527 [00:00<?, ?B/s]"
      ]
     },
     "metadata": {},
     "output_type": "display_data"
    },
    {
     "data": {
      "application/vnd.jupyter.widget-view+json": {
       "model_id": "19fee89adad14dbdb2edacbc78f61105",
       "version_major": 2,
       "version_minor": 0
      },
      "text/plain": [
       "Downloading (…)99ab895/modules.json:   0%|          | 0.00/229 [00:00<?, ?B/s]"
      ]
     },
     "metadata": {},
     "output_type": "display_data"
    }
   ],
   "source": [
    "model = SentenceTransformer('sentence-transformers/xlm-r-100langs-bert-base-nli-stsb-mean-tokens')"
   ]
  },
  {
   "cell_type": "code",
   "execution_count": 4,
   "metadata": {},
   "outputs": [],
   "source": [
    "train_data['embedding'] = train_data.apply(lambda row: model.encode(row.Q), axis = 1)"
   ]
  },
  {
   "cell_type": "code",
   "execution_count": 24,
   "metadata": {},
   "outputs": [],
   "source": [
    "# Create an empty numpy array of given dimensions\n",
    "embeddings = np.empty((11823, 768))\n",
    "\n",
    "# Assuming 'train_data' is a dictionary with a key 'embedding' that contains the data you want to insert\n",
    "# Check if 'embedding' key is present in 'train_data' and if the dimensions match\n",
    "#if 'embedding' in train_data and np.array(train_data['embedding']).shape == array.shape:\n",
    "embeddings = np.array(train_data['embedding'].tolist())\n",
    "#else:\n",
    "#    print(\"The shape of train_data['embedding'] doesn't match with the array or 'embedding' key is missing in train_data\")\n"
   ]
  },
  {
   "cell_type": "code",
   "execution_count": 25,
   "metadata": {},
   "outputs": [
    {
     "data": {
      "text/plain": [
       "(11823, 768)"
      ]
     },
     "execution_count": 25,
     "metadata": {},
     "output_type": "execute_result"
    }
   ],
   "source": [
    "embeddings.shape"
   ]
  },
  {
   "cell_type": "code",
   "execution_count": 11,
   "metadata": {},
   "outputs": [],
   "source": [
    "def cos_sim(A, B):\n",
    "  return dot(A, B)/(norm(A)*norm(B))"
   ]
  },
  {
   "cell_type": "code",
   "execution_count": 26,
   "metadata": {},
   "outputs": [],
   "source": [
    "def return_answer(question):\n",
    "    t = time.time()\n",
    "    embedding = model.encode(question)\n",
    "    train_data['score'] = train_data.apply(lambda x: cos_sim(x['embedding'], embedding), axis=1)\n",
    "    print('total time: {}'.format(time.time() - t))\n",
    "    return train_data.loc[train_data['score'].idxmax()]['A']"
   ]
  },
  {
   "cell_type": "code",
   "execution_count": 49,
   "metadata": {},
   "outputs": [
    {
     "data": {
      "text/html": [
       "<div>\n",
       "<style scoped>\n",
       "    .dataframe tbody tr th:only-of-type {\n",
       "        vertical-align: middle;\n",
       "    }\n",
       "\n",
       "    .dataframe tbody tr th {\n",
       "        vertical-align: top;\n",
       "    }\n",
       "\n",
       "    .dataframe thead th {\n",
       "        text-align: right;\n",
       "    }\n",
       "</style>\n",
       "<table border=\"1\" class=\"dataframe\">\n",
       "  <thead>\n",
       "    <tr style=\"text-align: right;\">\n",
       "      <th></th>\n",
       "      <th>Q</th>\n",
       "      <th>A</th>\n",
       "      <th>label</th>\n",
       "      <th>embedding</th>\n",
       "      <th>score</th>\n",
       "    </tr>\n",
       "  </thead>\n",
       "  <tbody>\n",
       "    <tr>\n",
       "      <td>0</td>\n",
       "      <td>12시 땡!</td>\n",
       "      <td>하루가 또 가네요.</td>\n",
       "      <td>0</td>\n",
       "      <td>[0.20179579, -0.034438122, 1.5395725, 0.010697...</td>\n",
       "      <td>0.224196</td>\n",
       "    </tr>\n",
       "    <tr>\n",
       "      <td>1</td>\n",
       "      <td>1지망 학교 떨어졌어</td>\n",
       "      <td>위로해 드립니다.</td>\n",
       "      <td>0</td>\n",
       "      <td>[0.07716596, -0.034278188, 0.86244255, 0.02636...</td>\n",
       "      <td>0.182892</td>\n",
       "    </tr>\n",
       "    <tr>\n",
       "      <td>2</td>\n",
       "      <td>3박4일 놀러가고 싶다</td>\n",
       "      <td>여행은 언제나 좋죠.</td>\n",
       "      <td>0</td>\n",
       "      <td>[0.10445247, -0.012432246, 1.0132878, 0.022501...</td>\n",
       "      <td>0.197974</td>\n",
       "    </tr>\n",
       "    <tr>\n",
       "      <td>3</td>\n",
       "      <td>3박4일 정도 놀러가고 싶다</td>\n",
       "      <td>여행은 언제나 좋죠.</td>\n",
       "      <td>0</td>\n",
       "      <td>[0.09760746, -0.046716798, 0.8936941, 0.021047...</td>\n",
       "      <td>0.190051</td>\n",
       "    </tr>\n",
       "    <tr>\n",
       "      <td>4</td>\n",
       "      <td>PPL 심하네</td>\n",
       "      <td>눈살이 찌푸려지죠.</td>\n",
       "      <td>0</td>\n",
       "      <td>[-0.07002868, 0.031961206, 1.4915429, 4.337195...</td>\n",
       "      <td>0.257890</td>\n",
       "    </tr>\n",
       "    <tr>\n",
       "      <td>...</td>\n",
       "      <td>...</td>\n",
       "      <td>...</td>\n",
       "      <td>...</td>\n",
       "      <td>...</td>\n",
       "      <td>...</td>\n",
       "    </tr>\n",
       "    <tr>\n",
       "      <td>11818</td>\n",
       "      <td>훔쳐보는 것도 눈치 보임.</td>\n",
       "      <td>티가 나니까 눈치가 보이는 거죠!</td>\n",
       "      <td>2</td>\n",
       "      <td>[0.15363288, -0.3260559, 0.6987679, 0.10914066...</td>\n",
       "      <td>-0.036968</td>\n",
       "    </tr>\n",
       "    <tr>\n",
       "      <td>11819</td>\n",
       "      <td>훔쳐보는 것도 눈치 보임.</td>\n",
       "      <td>훔쳐보는 거 티나나봐요.</td>\n",
       "      <td>2</td>\n",
       "      <td>[0.15363288, -0.3260559, 0.6987679, 0.10914066...</td>\n",
       "      <td>-0.036968</td>\n",
       "    </tr>\n",
       "    <tr>\n",
       "      <td>11820</td>\n",
       "      <td>흑기사 해주는 짝남.</td>\n",
       "      <td>설렜겠어요.</td>\n",
       "      <td>2</td>\n",
       "      <td>[-0.03608513, -0.0052648946, 0.89135355, -0.01...</td>\n",
       "      <td>0.233989</td>\n",
       "    </tr>\n",
       "    <tr>\n",
       "      <td>11821</td>\n",
       "      <td>힘든 연애 좋은 연애라는게 무슨 차이일까?</td>\n",
       "      <td>잘 헤어질 수 있는 사이 여부인 거 같아요.</td>\n",
       "      <td>2</td>\n",
       "      <td>[-0.08468658, -0.14302948, 0.115261085, 0.3867...</td>\n",
       "      <td>0.100030</td>\n",
       "    </tr>\n",
       "    <tr>\n",
       "      <td>11822</td>\n",
       "      <td>힘들어서 결혼할까봐</td>\n",
       "      <td>도피성 결혼은 하지 않길 바라요.</td>\n",
       "      <td>2</td>\n",
       "      <td>[0.10820802, -0.08951276, 0.80524796, 0.046365...</td>\n",
       "      <td>0.171411</td>\n",
       "    </tr>\n",
       "  </tbody>\n",
       "</table>\n",
       "<p>11823 rows × 5 columns</p>\n",
       "</div>"
      ],
      "text/plain": [
       "                             Q                         A  label  \\\n",
       "0                       12시 땡!                하루가 또 가네요.      0   \n",
       "1                  1지망 학교 떨어졌어                 위로해 드립니다.      0   \n",
       "2                 3박4일 놀러가고 싶다               여행은 언제나 좋죠.      0   \n",
       "3              3박4일 정도 놀러가고 싶다               여행은 언제나 좋죠.      0   \n",
       "4                      PPL 심하네                눈살이 찌푸려지죠.      0   \n",
       "...                        ...                       ...    ...   \n",
       "11818           훔쳐보는 것도 눈치 보임.        티가 나니까 눈치가 보이는 거죠!      2   \n",
       "11819           훔쳐보는 것도 눈치 보임.             훔쳐보는 거 티나나봐요.      2   \n",
       "11820              흑기사 해주는 짝남.                    설렜겠어요.      2   \n",
       "11821  힘든 연애 좋은 연애라는게 무슨 차이일까?  잘 헤어질 수 있는 사이 여부인 거 같아요.      2   \n",
       "11822               힘들어서 결혼할까봐        도피성 결혼은 하지 않길 바라요.      2   \n",
       "\n",
       "                                               embedding     score  \n",
       "0      [0.20179579, -0.034438122, 1.5395725, 0.010697...  0.224196  \n",
       "1      [0.07716596, -0.034278188, 0.86244255, 0.02636...  0.182892  \n",
       "2      [0.10445247, -0.012432246, 1.0132878, 0.022501...  0.197974  \n",
       "3      [0.09760746, -0.046716798, 0.8936941, 0.021047...  0.190051  \n",
       "4      [-0.07002868, 0.031961206, 1.4915429, 4.337195...  0.257890  \n",
       "...                                                  ...       ...  \n",
       "11818  [0.15363288, -0.3260559, 0.6987679, 0.10914066... -0.036968  \n",
       "11819  [0.15363288, -0.3260559, 0.6987679, 0.10914066... -0.036968  \n",
       "11820  [-0.03608513, -0.0052648946, 0.89135355, -0.01...  0.233989  \n",
       "11821  [-0.08468658, -0.14302948, 0.115261085, 0.3867...  0.100030  \n",
       "11822  [0.10820802, -0.08951276, 0.80524796, 0.046365...  0.171411  \n",
       "\n",
       "[11823 rows x 5 columns]"
      ]
     },
     "execution_count": 49,
     "metadata": {},
     "output_type": "execute_result"
    }
   ],
   "source": [
    "train_data"
   ]
  },
  {
   "cell_type": "code",
   "execution_count": 43,
   "metadata": {},
   "outputs": [
    {
     "name": "stdout",
     "output_type": "stream",
     "text": [
      "total time: 0.6367588043212891\n"
     ]
    },
    {
     "data": {
      "text/plain": [
       "'카페인이 필요한 시간인가 봐요.'"
      ]
     },
     "execution_count": 43,
     "metadata": {},
     "output_type": "execute_result"
    }
   ],
   "source": [
    "return_answer('나랑 커피먹을래?')"
   ]
  },
  {
   "attachments": {},
   "cell_type": "markdown",
   "metadata": {},
   "source": [
    "FAISS 적용"
   ]
  },
  {
   "cell_type": "code",
   "execution_count": 28,
   "metadata": {},
   "outputs": [],
   "source": [
    "import faiss\n",
    "index = faiss.IndexFlatL2(embeddings.shape[1]) # 초기화 : 벡터의 크기를 지정\n",
    "index.add(embeddings) # 임베딩을 추가"
   ]
  },
  {
   "cell_type": "code",
   "execution_count": 29,
   "metadata": {},
   "outputs": [
    {
     "data": {
      "text/plain": [
       "11823"
      ]
     },
     "execution_count": 29,
     "metadata": {},
     "output_type": "execute_result"
    }
   ],
   "source": [
    "index.is_trained # 추가가 되었는지 확인하기\n",
    "index.ntotal # 임베딩 수 확인하기"
   ]
  },
  {
   "cell_type": "code",
   "execution_count": 44,
   "metadata": {},
   "outputs": [
    {
     "name": "stdout",
     "output_type": "stream",
     "text": [
      "total time: 0.050106048583984375\n"
     ]
    }
   ],
   "source": [
    "top_k = 10\n",
    "query = \"나랑 커피먹을래?\"\n",
    "t = time.time()\n",
    "query_embedding = model.encode([query])\n",
    "distances, indices = index.search(query_embedding, top_k)\n",
    "print('total time: {}'.format(time.time() - t))"
   ]
  },
  {
   "cell_type": "code",
   "execution_count": 45,
   "metadata": {},
   "outputs": [
    {
     "data": {
      "text/plain": [
       "array([[4719, 4725, 4727, 4738, 4722, 1016, 1015, 2669, 4336, 4736]])"
      ]
     },
     "execution_count": 45,
     "metadata": {},
     "output_type": "execute_result"
    }
   ],
   "source": [
    "indices"
   ]
  },
  {
   "cell_type": "code",
   "execution_count": 46,
   "metadata": {},
   "outputs": [
    {
     "data": {
      "text/html": [
       "<div>\n",
       "<style scoped>\n",
       "    .dataframe tbody tr th:only-of-type {\n",
       "        vertical-align: middle;\n",
       "    }\n",
       "\n",
       "    .dataframe tbody tr th {\n",
       "        vertical-align: top;\n",
       "    }\n",
       "\n",
       "    .dataframe thead th {\n",
       "        text-align: right;\n",
       "    }\n",
       "</style>\n",
       "<table border=\"1\" class=\"dataframe\">\n",
       "  <thead>\n",
       "    <tr style=\"text-align: right;\">\n",
       "      <th></th>\n",
       "      <th>Q</th>\n",
       "      <th>A</th>\n",
       "      <th>label</th>\n",
       "      <th>embedding</th>\n",
       "      <th>score</th>\n",
       "    </tr>\n",
       "  </thead>\n",
       "  <tbody>\n",
       "    <tr>\n",
       "      <td>4719</td>\n",
       "      <td>커피 마시고 싶어</td>\n",
       "      <td>카페인이 필요한 시간인가 봐요.</td>\n",
       "      <td>0</td>\n",
       "      <td>[-0.3993267, 0.1972204, 0.624025, 0.0350213, -...</td>\n",
       "      <td>0.833982</td>\n",
       "    </tr>\n",
       "    <tr>\n",
       "      <td>4725</td>\n",
       "      <td>커피 좀 마셔야겠다.</td>\n",
       "      <td>좋은 시간 보내시길 바라요.</td>\n",
       "      <td>0</td>\n",
       "      <td>[-0.61822385, 0.10265435, 0.45700443, 0.170730...</td>\n",
       "      <td>0.821451</td>\n",
       "    </tr>\n",
       "    <tr>\n",
       "      <td>4727</td>\n",
       "      <td>커피 중독인가</td>\n",
       "      <td>커피도 좋지만 차도 마셔보세요.</td>\n",
       "      <td>0</td>\n",
       "      <td>[-0.43330464, 0.18593621, 0.40007284, 0.061037...</td>\n",
       "      <td>0.758893</td>\n",
       "    </tr>\n",
       "    <tr>\n",
       "      <td>4738</td>\n",
       "      <td>커피향</td>\n",
       "      <td>커피는 향이죠.</td>\n",
       "      <td>0</td>\n",
       "      <td>[-0.37359497, 0.050638147, 0.48983014, 0.10150...</td>\n",
       "      <td>0.741882</td>\n",
       "    </tr>\n",
       "    <tr>\n",
       "      <td>4722</td>\n",
       "      <td>커피 볶는 시간</td>\n",
       "      <td>커피향 좋겠어요.</td>\n",
       "      <td>0</td>\n",
       "      <td>[-0.5361387, 0.32619828, 0.92553574, 0.0107541...</td>\n",
       "      <td>0.721663</td>\n",
       "    </tr>\n",
       "    <tr>\n",
       "      <td>1016</td>\n",
       "      <td>녹차 한 잔 어때?</td>\n",
       "      <td>드시는거 보기만 해도 좋아요.</td>\n",
       "      <td>0</td>\n",
       "      <td>[-0.73541343, 0.055900984, -0.042146128, 0.038...</td>\n",
       "      <td>0.725523</td>\n",
       "    </tr>\n",
       "    <tr>\n",
       "      <td>1015</td>\n",
       "      <td>녹차 마실래?</td>\n",
       "      <td>드시는거 보기만 해도 좋아요.</td>\n",
       "      <td>0</td>\n",
       "      <td>[-0.6872571, 0.074429035, 0.11777494, -0.01054...</td>\n",
       "      <td>0.702038</td>\n",
       "    </tr>\n",
       "    <tr>\n",
       "      <td>2669</td>\n",
       "      <td>스타벅스 가봤어?</td>\n",
       "      <td>당연하죠.</td>\n",
       "      <td>0</td>\n",
       "      <td>[0.04279117, 0.60799265, 0.4283862, -0.1353537...</td>\n",
       "      <td>0.735114</td>\n",
       "    </tr>\n",
       "    <tr>\n",
       "      <td>4336</td>\n",
       "      <td>진한 커피 한잔</td>\n",
       "      <td>마시면 좋죠.</td>\n",
       "      <td>0</td>\n",
       "      <td>[-0.23439236, -0.054278757, 0.7673412, 0.19666...</td>\n",
       "      <td>0.646626</td>\n",
       "    </tr>\n",
       "    <tr>\n",
       "      <td>4736</td>\n",
       "      <td>커피를 너무 많이 마셔</td>\n",
       "      <td>저도 커피 좋아해요.</td>\n",
       "      <td>0</td>\n",
       "      <td>[-0.22200698, 0.0684263, 0.43020868, 0.1062221...</td>\n",
       "      <td>0.614607</td>\n",
       "    </tr>\n",
       "  </tbody>\n",
       "</table>\n",
       "</div>"
      ],
      "text/plain": [
       "                 Q                  A  label  \\\n",
       "4719     커피 마시고 싶어  카페인이 필요한 시간인가 봐요.      0   \n",
       "4725   커피 좀 마셔야겠다.    좋은 시간 보내시길 바라요.      0   \n",
       "4727       커피 중독인가  커피도 좋지만 차도 마셔보세요.      0   \n",
       "4738           커피향           커피는 향이죠.      0   \n",
       "4722      커피 볶는 시간          커피향 좋겠어요.      0   \n",
       "1016    녹차 한 잔 어때?   드시는거 보기만 해도 좋아요.      0   \n",
       "1015       녹차 마실래?   드시는거 보기만 해도 좋아요.      0   \n",
       "2669     스타벅스 가봤어?              당연하죠.      0   \n",
       "4336      진한 커피 한잔            마시면 좋죠.      0   \n",
       "4736  커피를 너무 많이 마셔        저도 커피 좋아해요.      0   \n",
       "\n",
       "                                              embedding     score  \n",
       "4719  [-0.3993267, 0.1972204, 0.624025, 0.0350213, -...  0.833982  \n",
       "4725  [-0.61822385, 0.10265435, 0.45700443, 0.170730...  0.821451  \n",
       "4727  [-0.43330464, 0.18593621, 0.40007284, 0.061037...  0.758893  \n",
       "4738  [-0.37359497, 0.050638147, 0.48983014, 0.10150...  0.741882  \n",
       "4722  [-0.5361387, 0.32619828, 0.92553574, 0.0107541...  0.721663  \n",
       "1016  [-0.73541343, 0.055900984, -0.042146128, 0.038...  0.725523  \n",
       "1015  [-0.6872571, 0.074429035, 0.11777494, -0.01054...  0.702038  \n",
       "2669  [0.04279117, 0.60799265, 0.4283862, -0.1353537...  0.735114  \n",
       "4336  [-0.23439236, -0.054278757, 0.7673412, 0.19666...  0.646626  \n",
       "4736  [-0.22200698, 0.0684263, 0.43020868, 0.1062221...  0.614607  "
      ]
     },
     "execution_count": 46,
     "metadata": {},
     "output_type": "execute_result"
    }
   ],
   "source": [
    "# 결과 확인\n",
    "temp = train_data.iloc[indices[0]]\n",
    "#temp\n",
    "#temp['distances'] = distances[0]\n",
    "temp.head(10)"
   ]
  },
  {
   "cell_type": "code",
   "execution_count": null,
   "metadata": {},
   "outputs": [],
   "source": []
  }
 ],
 "metadata": {
  "kernelspec": {
   "display_name": "base",
   "language": "python",
   "name": "python3"
  },
  "language_info": {
   "codemirror_mode": {
    "name": "ipython",
    "version": 3
   },
   "file_extension": ".py",
   "mimetype": "text/x-python",
   "name": "python",
   "nbconvert_exporter": "python",
   "pygments_lexer": "ipython3",
   "version": "3.7.4"
  },
  "orig_nbformat": 4
 },
 "nbformat": 4,
 "nbformat_minor": 2
}
